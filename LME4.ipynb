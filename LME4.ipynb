{
 "cells": [
  {
   "cell_type": "markdown",
   "metadata": {},
   "source": [
    "### Setting up your enviRonment\n",
    "Getting started with multilevel modeling in R is simple. lme4 is the canonical package for implementing multilevel models in R, though there are a number of packages that depend on and enhance its feature set, including Bayesian extensions. \n",
    "\n",
    "lme4 has been recently rewritten to improve speed and to incorporate a C++ codebase, and as such the features of the package are somewhat in flux. Be sure to update the package frequently.\n",
    "\n",
    "To install lme4, we just run:\n"
   ]
  },
  {
   "cell_type": "code",
   "execution_count": null,
   "metadata": {
    "collapsed": false
   },
   "outputs": [],
   "source": [
    "# Main version\n",
    "install.packages(\"lme4\")\n",
    "\n",
    "# Or to install the dev version\n",
    "# library(devtools)\n",
    "# install_github(\"lme4\", user = \"lme4\")"
   ]
  },
  {
   "cell_type": "code",
   "execution_count": null,
   "metadata": {
    "collapsed": true
   },
   "outputs": [],
   "source": [
    "\n",
    "Read in the data\n",
    "Multilevel models are appropriate for a particular kind of data structure where units are nested within groups (generally 5+ groups) and where we want to model the group structure of the data. For our introductory example we will start with a simple example from the lme4 documentation and explain what the model is doing. We will use data from Jon Starkweather at the University of North Texas. Visit the excellent tutorial available here for more.\n"
   ]
  },
  {
   "cell_type": "code",
   "execution_count": 3,
   "metadata": {
    "collapsed": true
   },
   "outputs": [],
   "source": [
    "library(lme4)  # load library\n",
    "library(arm)  # convenience functions for regression in R\n"
   ]
  },
  {
   "cell_type": "code",
   "execution_count": 2,
   "metadata": {
    "collapsed": false
   },
   "outputs": [
    {
     "name": "stderr",
     "output_type": "stream",
     "text": [
      "Loading required package: Matrix\n",
      "Loading required package: MASS\n",
      "\n",
      "arm (Version 1.8-6, built: 2015-7-7)\n",
      "\n",
      "Working directory is /home/nbuser\n",
      "\n",
      "Warning message in file(file, \"rt\"):\n",
      "\"cannot open URL 'http://www.unt.edu/rss/class/Jon/R_SC/Module9/lmm.data.txt': HTTP status was '403 Forbidden'\""
     ]
    },
    {
     "ename": "ERROR",
     "evalue": "Error in file(file, \"rt\"): cannot open the connection\n",
     "output_type": "error",
     "traceback": [
      "Error in file(file, \"rt\"): cannot open the connection\nTraceback:\n",
      "1. read.table(\"http://www.unt.edu/rss/class/Jon/R_SC/Module9/lmm.data.txt\", \n .     header = TRUE, sep = \",\", na.strings = \"NA\", dec = \".\", strip.white = TRUE)",
      "2. file(file, \"rt\")"
     ]
    }
   ],
   "source": [
    "\n",
    "lmm.data <- read.table(\"http://www.unt.edu/rss/class/Jon/R_SC/Module9/lmm.data.txt\", \n",
    "    header = TRUE, sep = \",\", na.strings = \"NA\", dec = \".\", strip.white = TRUE)\n",
    "# summary(lmm.data)\n",
    "head(lmm.data)"
   ]
  },
  {
   "cell_type": "code",
   "execution_count": null,
   "metadata": {
    "collapsed": true
   },
   "outputs": [],
   "source": [
    "\n",
    "\n",
    "##   id extro  open agree social class school\n",
    "## 1  1 63.69 43.43 38.03  75.06     d     IV\n",
    "## 2  2 69.48 46.87 31.49  98.13     a     VI\n",
    "## 3  3 79.74 32.27 40.21 116.34     d     VI\n",
    "## 4  4 62.97 44.41 30.51  90.47     c     IV\n",
    "## 5  5 64.25 36.86 37.44  98.52     d     IV\n",
    "## 6  6 50.97 46.26 38.83  75.22     d      I\n",
    "Here we have data on the extroversion of subjects nested within classes and within schools.\n"
   ]
  },
  {
   "cell_type": "code",
   "execution_count": null,
   "metadata": {
    "collapsed": true
   },
   "outputs": [],
   "source": [
    "\n",
    "Fit the Non-Multilevel Models\n",
    "Let's start by fitting a simple OLS regression of measures of openness, agreeableness, and socialability on extroversion. Here we use the display function in the excellent arm package for abbreviated output. Other options include stargazer for LaTeX typeset tables, xtable, or the ascii package for more flexible plain text output options.\n",
    "\n",
    "OLSexamp <- lm(extro ~ open + agree + social, data = lmm.data)\n",
    "display(OLSexamp)\n",
    "## lm(formula = extro ~ open + agree + social, data = lmm.data)\n",
    "##             coef.est coef.se\n",
    "## (Intercept) 57.84     3.15  \n",
    "## open         0.02     0.05  \n",
    "## agree        0.03     0.05  \n",
    "## social       0.01     0.02  \n",
    "## ---\n",
    "## n = 1200, k = 4\n",
    "## residual sd = 9.34, R-Squared = 0.00\n",
    "So far this model does not fit very well at all. The R model interface is quite a simple one with the dependent variable being specified first, followed by the ~ symbol. The righ hand side, predictor variables, are each named. Addition signs indicate that these are modeled as additive effects. Finally, we specify that datframe on which to calculate the model. Here we use the lm function to perform OLS regression, but there are many other options in R.\n",
    "\n",
    "If we want to extract measures such as the AIC, we may prefer to fit a generalized linear model with glm which produces a model fit through maximum likelihood estimation. Note that the model formula specification is the same.\n",
    "\n",
    "MLexamp <- glm(extro ~ open + agree + social, data = lmm.data)\n",
    "display(MLexamp)\n",
    "## glm(formula = extro ~ open + agree + social, data = lmm.data)\n",
    "##             coef.est coef.se\n",
    "## (Intercept) 57.84     3.15  \n",
    "## open         0.02     0.05  \n",
    "## agree        0.03     0.05  \n",
    "## social       0.01     0.02  \n",
    "## ---\n",
    "##   n = 1200, k = 4\n",
    "##   residual deviance = 104378.2, null deviance = 104432.7 (difference = 54.5)\n",
    "##   overdispersion parameter = 87.3\n",
    "##   residual sd is sqrt(overdispersion) = 9.34\n"
   ]
  },
  {
   "cell_type": "code",
   "execution_count": null,
   "metadata": {
    "collapsed": true
   },
   "outputs": [],
   "source": [
    "AIC(MLexamp)\n",
    "## [1] 8774\n",
    "This results in a poor model fit. Let's look at a simple varying intercept model now."
   ]
  },
  {
   "cell_type": "markdown",
   "metadata": {},
   "source": [
    "### Fit a varying intercept model\n",
    "Depending on disciplinary norms, our next step might be to fit a varying intercept model using a grouping variable such as school or classes. Using the glm function and the familiar formula interface, such a fit is easy:\n",
    "\n"
   ]
  },
  {
   "cell_type": "code",
   "execution_count": null,
   "metadata": {
    "collapsed": true
   },
   "outputs": [],
   "source": [
    "MLexamp.2 <- glm(extro ~ open + agree + social + class, data = lmm.data)\n",
    "display(MLexamp.2)\n",
    "## glm(formula = extro ~ open + agree + social + class, data = lmm.data)\n",
    "##             coef.est coef.se\n",
    "## (Intercept) 56.05     3.09  \n",
    "## open         0.03     0.05  \n",
    "## agree       -0.01     0.05  \n",
    "## social       0.01     0.02  \n",
    "## classb       2.06     0.75  \n",
    "## classc       3.70     0.75  \n",
    "## classd       5.67     0.75  \n",
    "## ---\n",
    "##   n = 1200, k = 7\n",
    "##   residual deviance = 99187.7, null deviance = 104432.7 (difference = 5245.0)\n",
    "##   overdispersion parameter = 83.1\n",
    "##   residual sd is sqrt(overdispersion) = 9.12"
   ]
  },
  {
   "cell_type": "code",
   "execution_count": null,
   "metadata": {
    "collapsed": true
   },
   "outputs": [],
   "source": [
    "AIC(MLexamp.2)\n",
    "## [1] 8719\n",
    "anova(MLexamp, MLexamp.2, test = \"F\")\n",
    "## Analysis of Deviance Table\n",
    "## \n",
    "## Model 1: extro ~ open + agree + social\n",
    "## Model 2: extro ~ open + agree + social + class\n",
    "##   Resid. Df Resid. Dev Df Deviance    F  Pr(>F)    \n",
    "## 1      1196     104378                             \n",
    "## 2      1193      99188  3     5190 20.8 3.8e-13 ***\n",
    "## ---\n",
    "## Signif. codes:  0 '***' 0.001 '**' 0.01 '*' 0.05 '.' 0.1 ' ' 1"
   ]
  },
  {
   "cell_type": "markdown",
   "metadata": {},
   "source": [
    "This is called a fixed-effects specification often. This is simply the case of fitting a separate dummy variable as a predictor for each class. We can see this does not provide much additional model fit. Let's see if school performs any better.\n"
   ]
  },
  {
   "cell_type": "code",
   "execution_count": null,
   "metadata": {
    "collapsed": true
   },
   "outputs": [],
   "source": [
    "MLexamp.3 <- glm(extro ~ open + agree + social + school, data = lmm.data)\n",
    "display(MLexamp.3)\n",
    "## glm(formula = extro ~ open + agree + social + school, data = lmm.data)\n",
    "##             coef.est coef.se\n",
    "## (Intercept) 45.02     0.92  \n",
    "## open         0.01     0.01  \n",
    "## agree        0.03     0.02  \n",
    "## social       0.00     0.00  \n",
    "## schoolII     7.91     0.27  \n",
    "## schoolIII   12.12     0.27  \n",
    "## schoolIV    16.06     0.27  \n",
    "## schoolV     20.43     0.27  \n",
    "## schoolVI    28.05     0.27  \n",
    "## ---\n",
    "##   n = 1200, k = 9\n",
    "##   residual deviance = 8496.2, null deviance = 104432.7 (difference = 95936.5)\n",
    "##   overdispersion parameter = 7.1\n",
    "##   residual sd is sqrt(overdispersion) = 2.67"
   ]
  },
  {
   "cell_type": "code",
   "execution_count": null,
   "metadata": {
    "collapsed": true
   },
   "outputs": [],
   "source": [
    "\n",
    "\n",
    "\n",
    "\n",
    "AIC(MLexamp.3)\n",
    "## [1] 5774\n",
    "anova(MLexamp, MLexamp.3, test = \"F\")\n",
    "## Analysis of Deviance Table\n",
    "## \n",
    "## Model 1: extro ~ open + agree + social\n",
    "## Model 2: extro ~ open + agree + social + school\n",
    "##   Resid. Df Resid. Dev Df Deviance    F Pr(>F)    \n",
    "## 1      1196     104378                            \n",
    "## 2      1191       8496  5    95882 2688 <2e-16 ***\n",
    "## ---\n",
    "## Signif. codes:  0 '***' 0.001 '**' 0.01 '*' 0.05 '.' 0.1 ' ' 1\n"
   ]
  },
  {
   "cell_type": "code",
   "execution_count": null,
   "metadata": {
    "collapsed": true
   },
   "outputs": [],
   "source": [
    "The school effect greatly improves our model fit. However, how do we interpret these effects?\n",
    "\n",
    "table(lmm.data$school, lmm.data$class)\n",
    "##      \n",
    "##        a  b  c  d\n",
    "##   I   50 50 50 50\n",
    "##   II  50 50 50 50\n",
    "##   III 50 50 50 50\n",
    "##   IV  50 50 50 50\n",
    "##   V   50 50 50 50\n",
    "##   VI  50 50 50 50"
   ]
  },
  {
   "cell_type": "markdown",
   "metadata": {},
   "source": [
    "\n",
    "Here we can see we have a perfectly balanced design with fifty observations in each combination of class and school (if only data were always so nice!).\n",
    "\n",
    "Let's try to model each of these unique cells. To do this, we fit a model and use the : operator to specify the interaction between school and class.\n"
   ]
  },
  {
   "cell_type": "code",
   "execution_count": null,
   "metadata": {
    "collapsed": true
   },
   "outputs": [],
   "source": [
    "\n",
    "\n",
    "\n",
    "MLexamp.4 <- glm(extro ~ open + agree + social + school:class, data = lmm.data)\n",
    "display(MLexamp.4)\n",
    "## glm(formula = extro ~ open + agree + social + school:class, data = lmm.data)\n",
    "##                  coef.est coef.se\n",
    "## (Intercept)       80.36     0.37 \n",
    "## open               0.01     0.00 \n",
    "## agree             -0.01     0.01 \n",
    "## social             0.00     0.00 \n",
    "## schoolI:classa   -40.39     0.20 \n",
    "## schoolII:classa  -28.15     0.20 \n",
    "## schoolIII:classa -23.58     0.20 \n",
    "## schoolIV:classa  -19.76     0.20 \n",
    "## schoolV:classa   -15.50     0.20 \n",
    "## schoolVI:classa  -10.46     0.20 \n",
    "## schoolI:classb   -34.60     0.20 \n",
    "## schoolII:classb  -26.76     0.20 \n",
    "## schoolIII:classb -22.59     0.20 \n",
    "## schoolIV:classb  -18.71     0.20 \n",
    "## schoolV:classb   -14.31     0.20 \n",
    "## schoolVI:classb   -8.54     0.20 \n",
    "## schoolI:classc   -31.86     0.20 \n",
    "## schoolII:classc  -25.64     0.20 \n",
    "## schoolIII:classc -21.58     0.20 \n",
    "## schoolIV:classc  -17.58     0.20 \n",
    "## schoolV:classc   -13.38     0.20 \n",
    "## schoolVI:classc   -5.58     0.20 \n",
    "## schoolI:classd   -30.00     0.20 \n",
    "## schoolII:classd  -24.57     0.20 \n",
    "## schoolIII:classd -20.64     0.20 \n",
    "## schoolIV:classd  -16.60     0.20 \n",
    "## schoolV:classd   -12.04     0.20 \n",
    "## ---\n",
    "##   n = 1200, k = 27\n",
    "##   residual deviance = 1135.9, null deviance = 104432.7 (difference = 103296.8)\n",
    "##   overdispersion parameter = 1.0\n",
    "##   residual sd is sqrt(overdispersion) = 0.98\n",
    "AIC(MLexamp.4)\n",
    "## [1] 3396\n",
    "This is very useful, but what if we want to understand both the effect of the school and the effect of the class, as well as the effect of the schools and classes? Unfortunately, this is not easily done with the standard glm.\n",
    "\n",
    "MLexamp.5 <- glm(extro ~ open + agree + social + school * class - 1, data = lmm.data)\n",
    "display(MLexamp.5)\n",
    "## glm(formula = extro ~ open + agree + social + school * class - \n",
    "##     1, data = lmm.data)\n",
    "##                  coef.est coef.se\n",
    "## open              0.01     0.00  \n",
    "## agree            -0.01     0.01  \n",
    "## social            0.00     0.00  \n",
    "## schoolI          39.96     0.36  \n",
    "## schoolII         52.21     0.36  \n",
    "## schoolIII        56.78     0.36  \n",
    "## schoolIV         60.60     0.36  \n",
    "## schoolV          64.86     0.36  \n",
    "## schoolVI         69.90     0.36  \n",
    "## classb            5.79     0.20  \n",
    "## classc            8.53     0.20  \n",
    "## classd           10.39     0.20  \n",
    "## schoolII:classb  -4.40     0.28  \n",
    "## schoolIII:classb -4.80     0.28  \n",
    "## schoolIV:classb  -4.74     0.28  \n",
    "## schoolV:classb   -4.60     0.28  \n",
    "## schoolVI:classb  -3.87     0.28  \n",
    "## schoolII:classc  -6.02     0.28  \n",
    "## schoolIII:classc -6.54     0.28  \n",
    "## schoolIV:classc  -6.36     0.28  \n",
    "## schoolV:classc   -6.41     0.28  \n",
    "## schoolVI:classc  -3.65     0.28  \n",
    "## schoolII:classd  -6.81     0.28  \n",
    "## schoolIII:classd -7.45     0.28  \n",
    "## schoolIV:classd  -7.24     0.28  \n",
    "## schoolV:classd   -6.93     0.28  \n",
    "## schoolVI:classd   0.06     0.28  \n",
    "## ---\n",
    "##   n = 1200, k = 27\n",
    "##   residual deviance = 1135.9, null deviance = 4463029.9 (difference = 4461894.0)\n",
    "##   overdispersion parameter = 1.0\n",
    "##   residual sd is sqrt(overdispersion) = 0.98\n",
    "AIC(MLexamp.5)\n",
    "## [1] 3396\n",
    "Exploring Random Slopes\n",
    "Another alternative is to fit a separate model for each of the school and class combinations. If we believe the relationsihp between our variables may be highly dependent on the school and class combination, we can simply fit a series of models and explore the parameter variation among them:\n",
    "\n",
    "require(plyr)\n",
    "\n",
    "modellist <- dlply(lmm.data, .(school, class), function(x) glm(extro ~ open + \n",
    "    agree + social, data = x))\n",
    "display(modellist[[1]])\n",
    "## glm(formula = extro ~ open + agree + social, data = x)\n",
    "##             coef.est coef.se\n",
    "## (Intercept) 35.87     5.90  \n",
    "## open         0.05     0.09  \n",
    "## agree        0.02     0.10  \n",
    "## social       0.01     0.03  \n",
    "## ---\n",
    "##   n = 50, k = 4\n",
    "##   residual deviance = 500.2, null deviance = 506.2 (difference = 5.9)\n",
    "##   overdispersion parameter = 10.9\n",
    "##   residual sd is sqrt(overdispersion) = 3.30\n",
    "display(modellist[[2]])\n",
    "## glm(formula = extro ~ open + agree + social, data = x)\n",
    "##             coef.est coef.se\n",
    "## (Intercept) 47.96     2.16  \n",
    "## open        -0.01     0.03  \n",
    "## agree       -0.03     0.03  \n",
    "## social      -0.01     0.01  \n",
    "## ---\n",
    "##   n = 50, k = 4\n",
    "##   residual deviance = 47.9, null deviance = 49.1 (difference = 1.2)\n",
    "##   overdispersion parameter = 1.0\n",
    "##   residual sd is sqrt(overdispersion) = 1.02\n",
    "We will discuss this strategy in more depth in future tutorials including how to performan inference on the list of models produced in this command.\n",
    "\n",
    "Fit a varying intercept model with lmer\n",
    "Enter lme4. While all of the above techniques are valid approaches to this problem, they are not necessarily the best approach when we are interested explicitly in variation among and by groups. This is where a mixed-effect modeling framework is useful. Now we use the lmer function with the familiar formula interface, but now group level variables are specified using a special syntax: (1|school) tells lmer to fit a linear model with a varying-intercept group effect using the variable school.\n",
    "\n",
    "MLexamp.6 <- lmer(extro ~ open + agree + social + (1 | school), data = lmm.data)\n",
    "display(MLexamp.6)\n",
    "## lmer(formula = extro ~ open + agree + social + (1 | school), \n",
    "##     data = lmm.data)\n",
    "##             coef.est coef.se\n",
    "## (Intercept) 59.12     4.10  \n",
    "## open         0.01     0.01  \n",
    "## agree        0.03     0.02  \n",
    "## social       0.00     0.00  \n",
    "## \n",
    "## Error terms:\n",
    "##  Groups   Name        Std.Dev.\n",
    "##  school   (Intercept) 9.79    \n",
    "##  Residual             2.67    \n",
    "## ---\n",
    "## number of obs: 1200, groups: school, 6\n",
    "## AIC = 5836.1, DIC = 5789\n",
    "## deviance = 5806.5\n",
    "\n"
   ]
  },
  {
   "cell_type": "code",
   "execution_count": null,
   "metadata": {
    "collapsed": true
   },
   "outputs": [],
   "source": [
    "We can fit multiple group effects with multiple group effect terms.\n",
    "\n",
    "MLexamp.7 <- lmer(extro ~ open + agree + social + (1 | school) + (1 | class), \n",
    "    data = lmm.data)\n",
    "display(MLexamp.7)\n",
    "## lmer(formula = extro ~ open + agree + social + (1 | school) + \n",
    "##     (1 | class), data = lmm.data)\n",
    "##             coef.est coef.se\n",
    "## (Intercept) 60.20     4.21  \n",
    "## open         0.01     0.01  \n",
    "## agree       -0.01     0.01  \n",
    "## social       0.00     0.00  \n",
    "## \n",
    "## Error terms:\n",
    "##  Groups   Name        Std.Dev.\n",
    "##  school   (Intercept) 9.79    \n",
    "##  class    (Intercept) 2.41    \n",
    "##  Residual             1.67    \n",
    "## ---\n",
    "## number of obs: 1200, groups: school, 6; class, 4\n",
    "## AIC = 4737.9, DIC = 4683\n",
    "## deviance = 4703.6"
   ]
  },
  {
   "cell_type": "code",
   "execution_count": null,
   "metadata": {
    "collapsed": true
   },
   "outputs": [],
   "source": [
    "And finally, we can fit nested group effect terms through the following syntax:"
   ]
  },
  {
   "cell_type": "code",
   "execution_count": null,
   "metadata": {
    "collapsed": true
   },
   "outputs": [],
   "source": [
    "\n",
    "\n",
    "MLexamp.8 <- lmer(extro ~ open + agree + social + (1 | school/class), data = lmm.data)\n",
    "display(MLexamp.8)\n",
    "## lmer(formula = extro ~ open + agree + social + (1 | school/class), \n",
    "##     data = lmm.data)\n",
    "##             coef.est coef.se\n",
    "## (Intercept) 60.24     4.01  \n",
    "## open         0.01     0.00  \n",
    "## agree       -0.01     0.01  \n",
    "## social       0.00     0.00  \n",
    "## \n",
    "## Error terms:\n",
    "##  Groups       Name        Std.Dev.\n",
    "##  class:school (Intercept) 2.86    \n",
    "##  school       (Intercept) 9.69    \n",
    "##  Residual                 0.98    \n",
    "## ---\n",
    "## number of obs: 1200, groups: class:school, 24; school, 6\n",
    "## AIC = 3568.6, DIC = 3508\n",
    "## deviance = 3531.1\n",
    "\n",
    "Here the (1|school/class) says that we want to fit a mixed effect term for varying intercepts 1| by schools, and for classes that are nested within schools.\n"
   ]
  },
  {
   "cell_type": "markdown",
   "metadata": {},
   "source": [
    "### Fit a varying slope model with lmer\n",
    "But, what if we want to explore the effect of different student level indicators as they vary across classrooms. Instead of fitting unique models by school (or school/class) we can fit a varying slope model. Here we modify our random effect term to include variables before the grouping terms: (1 + open|school/class) tells R to fit a varying slope and varying intercept model for schools and classes nested within schools, and to allow the slope of the open variable to vary by school.\n"
   ]
  },
  {
   "cell_type": "code",
   "execution_count": null,
   "metadata": {
    "collapsed": true
   },
   "outputs": [],
   "source": [
    "\n",
    "\n",
    "MLexamp.9 <- lmer(extro ~ open + agree + social + (1 + open | school/class), \n",
    "    data = lmm.data)\n",
    "display(MLexamp.9)\n",
    "## lmer(formula = extro ~ open + agree + social + (1 + open | school/class), \n",
    "##     data = lmm.data)\n",
    "##             coef.est coef.se\n",
    "## (Intercept) 60.26     3.93  \n",
    "## open         0.01     0.01  \n",
    "## agree       -0.01     0.01  \n",
    "## social       0.00     0.00  \n",
    "## \n",
    "## Error terms:\n",
    "##  Groups       Name        Std.Dev. Corr \n",
    "##  class:school (Intercept) 2.62          \n",
    "##               open        0.01     1.00 \n",
    "##  school       (Intercept) 9.51          \n",
    "##               open        0.00     1.00 \n",
    "##  Residual                 0.98          \n",
    "## ---\n",
    "## number of obs: 1200, groups: class:school, 24; school, 6\n",
    "## AIC = 3574.7, DIC = 3506\n",
    "## deviance = 3529.3\n",
    "\n"
   ]
  },
  {
   "cell_type": "markdown",
   "metadata": {},
   "source": [
    "### Conclusion\n",
    "Fitting mixed effect models and exploring group level variation is very easy within the R language and ecosystem. In future tutorials we will explore comparing across models, doing inference with mixed-effect models, and creating graphical representations of mixed effect models to understand their effects.\n"
   ]
  },
  {
   "cell_type": "code",
   "execution_count": null,
   "metadata": {
    "collapsed": true
   },
   "outputs": [],
   "source": [
    "### Appendix\n",
    "print(sessionInfo(), locale = FALSE)\n",
    "## R version 3.0.1 (2013-05-16)\n",
    "## Platform: x86_64-w64-mingw32/x64 (64-bit)\n",
    "## \n",
    "## attached base packages:\n",
    "## [1] stats     graphics  grDevices utils     datasets  methods   base     \n",
    "## \n",
    "## other attached packages:\n",
    "## [1] plyr_1.8        arm_1.6-10      MASS_7.3-29     lme4_1.0-5     \n",
    "## [5] Matrix_1.1-0    lattice_0.20-24 knitr_1.5      \n",
    "## \n",
    "## loaded via a namespace (and not attached):\n",
    "##  [1] abind_1.4-0    coda_0.16-1    evaluate_0.5.1 formatR_0.10  \n",
    "##  [5] grid_3.0.1     minqa_1.2.1    nlme_3.1-113   splines_3.0.1 \n",
    "##  [9] stringr_0.6.2  tools_3.0.1\n",
    "[1] Examples include Gelman and Hill, Gelman et al. 2013, etc.\n",
    "\n",
    "Update: Like this? Then head over to the second part -- using merMod objects in R. "
   ]
  }
 ],
 "metadata": {
  "kernelspec": {
   "display_name": "R",
   "language": "R",
   "name": "r"
  },
  "language_info": {
   "codemirror_mode": "r",
   "file_extension": ".r",
   "mimetype": "text/x-r-source",
   "name": "R",
   "pygments_lexer": "r",
   "version": "3.3.0"
  }
 },
 "nbformat": 4,
 "nbformat_minor": 2
}
